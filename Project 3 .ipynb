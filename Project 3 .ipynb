{
 "cells": [
  {
   "cell_type": "markdown",
   "id": "6de74d8c",
   "metadata": {},
   "source": [
    "Central Question: How has systemic bias within the arrest numbers impacted The people relationship with the NYPD and how does arrest data bring to light biases and inconsistencies within the NYPD"
   ]
  },
  {
   "cell_type": "code",
   "execution_count": 1,
   "id": "7acbdaac",
   "metadata": {},
   "outputs": [
    {
     "name": "stdout",
     "output_type": "stream",
     "text": [
      "Requirement already satisfied: pandas in c:\\users\\babra\\anaconda3\\lib\\site-packages (1.5.3)\n",
      "Requirement already satisfied: python-dateutil>=2.8.1 in c:\\users\\babra\\appdata\\roaming\\python\\python311\\site-packages (from pandas) (2.8.2)\n",
      "Requirement already satisfied: pytz>=2020.1 in c:\\users\\babra\\anaconda3\\lib\\site-packages (from pandas) (2022.7)\n",
      "Requirement already satisfied: numpy>=1.21.0 in c:\\users\\babra\\anaconda3\\lib\\site-packages (from pandas) (1.24.3)\n",
      "Requirement already satisfied: six>=1.5 in c:\\users\\babra\\appdata\\roaming\\python\\python311\\site-packages (from python-dateutil>=2.8.1->pandas) (1.16.0)\n",
      "Note: you may need to restart the kernel to use updated packages.\n"
     ]
    }
   ],
   "source": [
    "pip install pandas\n"
   ]
  },
  {
   "cell_type": "code",
   "execution_count": 2,
   "id": "b936fc41",
   "metadata": {},
   "outputs": [],
   "source": [
    "import pandas as pd"
   ]
  },
  {
   "cell_type": "code",
   "execution_count": 3,
   "id": "d82d81da",
   "metadata": {},
   "outputs": [],
   "source": [
    "file_path = 'NYPD_Arrests_Data__Historic__20231221.csv'"
   ]
  },
  {
   "cell_type": "code",
   "execution_count": 4,
   "id": "ec7afaa0",
   "metadata": {},
   "outputs": [],
   "source": [
    "df = pd.read_csv(file_path)"
   ]
  },
  {
   "cell_type": "code",
   "execution_count": 5,
   "id": "b57cb443",
   "metadata": {},
   "outputs": [
    {
     "data": {
      "text/html": [
       "<div>\n",
       "<style scoped>\n",
       "    .dataframe tbody tr th:only-of-type {\n",
       "        vertical-align: middle;\n",
       "    }\n",
       "\n",
       "    .dataframe tbody tr th {\n",
       "        vertical-align: top;\n",
       "    }\n",
       "\n",
       "    .dataframe thead th {\n",
       "        text-align: right;\n",
       "    }\n",
       "</style>\n",
       "<table border=\"1\" class=\"dataframe\">\n",
       "  <thead>\n",
       "    <tr style=\"text-align: right;\">\n",
       "      <th></th>\n",
       "      <th>ARREST_KEY</th>\n",
       "      <th>ARREST_DATE</th>\n",
       "      <th>PD_CD</th>\n",
       "      <th>PD_DESC</th>\n",
       "      <th>KY_CD</th>\n",
       "      <th>OFNS_DESC</th>\n",
       "      <th>LAW_CODE</th>\n",
       "      <th>LAW_CAT_CD</th>\n",
       "      <th>ARREST_BORO</th>\n",
       "      <th>ARREST_PRECINCT</th>\n",
       "      <th>JURISDICTION_CODE</th>\n",
       "      <th>AGE_GROUP</th>\n",
       "      <th>PERP_SEX</th>\n",
       "      <th>PERP_RACE</th>\n",
       "      <th>X_COORD_CD</th>\n",
       "      <th>Y_COORD_CD</th>\n",
       "      <th>Latitude</th>\n",
       "      <th>Longitude</th>\n",
       "      <th>Lon_Lat</th>\n",
       "    </tr>\n",
       "  </thead>\n",
       "  <tbody>\n",
       "    <tr>\n",
       "      <th>0</th>\n",
       "      <td>236791704</td>\n",
       "      <td>11/22/2021</td>\n",
       "      <td>581.0</td>\n",
       "      <td>NaN</td>\n",
       "      <td>NaN</td>\n",
       "      <td>NaN</td>\n",
       "      <td>PL 2225001</td>\n",
       "      <td>M</td>\n",
       "      <td>M</td>\n",
       "      <td>28</td>\n",
       "      <td>0.0</td>\n",
       "      <td>45-64</td>\n",
       "      <td>M</td>\n",
       "      <td>BLACK</td>\n",
       "      <td>997427.0</td>\n",
       "      <td>230378.0</td>\n",
       "      <td>40.799009</td>\n",
       "      <td>-73.952409</td>\n",
       "      <td>POINT (-73.95240854099995 40.799008797000056)</td>\n",
       "    </tr>\n",
       "    <tr>\n",
       "      <th>1</th>\n",
       "      <td>237354740</td>\n",
       "      <td>12/04/2021</td>\n",
       "      <td>153.0</td>\n",
       "      <td>RAPE 3</td>\n",
       "      <td>104.0</td>\n",
       "      <td>RAPE</td>\n",
       "      <td>PL 1302502</td>\n",
       "      <td>F</td>\n",
       "      <td>B</td>\n",
       "      <td>41</td>\n",
       "      <td>0.0</td>\n",
       "      <td>25-44</td>\n",
       "      <td>M</td>\n",
       "      <td>WHITE HISPANIC</td>\n",
       "      <td>1013232.0</td>\n",
       "      <td>236725.0</td>\n",
       "      <td>40.816392</td>\n",
       "      <td>-73.895296</td>\n",
       "      <td>POINT (-73.89529641399997 40.816391847000034)</td>\n",
       "    </tr>\n",
       "    <tr>\n",
       "      <th>2</th>\n",
       "      <td>236081433</td>\n",
       "      <td>11/09/2021</td>\n",
       "      <td>681.0</td>\n",
       "      <td>CHILD, ENDANGERING WELFARE</td>\n",
       "      <td>233.0</td>\n",
       "      <td>SEX CRIMES</td>\n",
       "      <td>PL 2601001</td>\n",
       "      <td>M</td>\n",
       "      <td>Q</td>\n",
       "      <td>113</td>\n",
       "      <td>0.0</td>\n",
       "      <td>25-44</td>\n",
       "      <td>M</td>\n",
       "      <td>BLACK</td>\n",
       "      <td>1046367.0</td>\n",
       "      <td>186986.0</td>\n",
       "      <td>40.679700</td>\n",
       "      <td>-73.776047</td>\n",
       "      <td>POINT (-73.77604736799998 40.67970040800003)</td>\n",
       "    </tr>\n",
       "    <tr>\n",
       "      <th>3</th>\n",
       "      <td>32311380</td>\n",
       "      <td>06/18/2007</td>\n",
       "      <td>511.0</td>\n",
       "      <td>CONTROLLED SUBSTANCE, POSSESSION 7</td>\n",
       "      <td>235.0</td>\n",
       "      <td>DANGEROUS DRUGS</td>\n",
       "      <td>PL 2200300</td>\n",
       "      <td>M</td>\n",
       "      <td>Q</td>\n",
       "      <td>27</td>\n",
       "      <td>1.0</td>\n",
       "      <td>18-24</td>\n",
       "      <td>M</td>\n",
       "      <td>BLACK</td>\n",
       "      <td>NaN</td>\n",
       "      <td>NaN</td>\n",
       "      <td>NaN</td>\n",
       "      <td>NaN</td>\n",
       "      <td>NaN</td>\n",
       "    </tr>\n",
       "    <tr>\n",
       "      <th>4</th>\n",
       "      <td>192799737</td>\n",
       "      <td>01/26/2019</td>\n",
       "      <td>177.0</td>\n",
       "      <td>SEXUAL ABUSE</td>\n",
       "      <td>116.0</td>\n",
       "      <td>SEX CRIMES</td>\n",
       "      <td>PL 1306503</td>\n",
       "      <td>F</td>\n",
       "      <td>M</td>\n",
       "      <td>25</td>\n",
       "      <td>0.0</td>\n",
       "      <td>45-64</td>\n",
       "      <td>M</td>\n",
       "      <td>BLACK</td>\n",
       "      <td>1000555.0</td>\n",
       "      <td>230994.0</td>\n",
       "      <td>40.800694</td>\n",
       "      <td>-73.941109</td>\n",
       "      <td>POINT (-73.94110928599997 40.800694331000045)</td>\n",
       "    </tr>\n",
       "  </tbody>\n",
       "</table>\n",
       "</div>"
      ],
      "text/plain": [
       "   ARREST_KEY ARREST_DATE  PD_CD                             PD_DESC  KY_CD  \\\n",
       "0   236791704  11/22/2021  581.0                                 NaN    NaN   \n",
       "1   237354740  12/04/2021  153.0                              RAPE 3  104.0   \n",
       "2   236081433  11/09/2021  681.0          CHILD, ENDANGERING WELFARE  233.0   \n",
       "3    32311380  06/18/2007  511.0  CONTROLLED SUBSTANCE, POSSESSION 7  235.0   \n",
       "4   192799737  01/26/2019  177.0                        SEXUAL ABUSE  116.0   \n",
       "\n",
       "         OFNS_DESC    LAW_CODE LAW_CAT_CD ARREST_BORO  ARREST_PRECINCT  \\\n",
       "0              NaN  PL 2225001          M           M               28   \n",
       "1             RAPE  PL 1302502          F           B               41   \n",
       "2       SEX CRIMES  PL 2601001          M           Q              113   \n",
       "3  DANGEROUS DRUGS  PL 2200300          M           Q               27   \n",
       "4       SEX CRIMES  PL 1306503          F           M               25   \n",
       "\n",
       "   JURISDICTION_CODE AGE_GROUP PERP_SEX       PERP_RACE  X_COORD_CD  \\\n",
       "0                0.0     45-64        M           BLACK    997427.0   \n",
       "1                0.0     25-44        M  WHITE HISPANIC   1013232.0   \n",
       "2                0.0     25-44        M           BLACK   1046367.0   \n",
       "3                1.0     18-24        M           BLACK         NaN   \n",
       "4                0.0     45-64        M           BLACK   1000555.0   \n",
       "\n",
       "   Y_COORD_CD   Latitude  Longitude  \\\n",
       "0    230378.0  40.799009 -73.952409   \n",
       "1    236725.0  40.816392 -73.895296   \n",
       "2    186986.0  40.679700 -73.776047   \n",
       "3         NaN        NaN        NaN   \n",
       "4    230994.0  40.800694 -73.941109   \n",
       "\n",
       "                                         Lon_Lat  \n",
       "0  POINT (-73.95240854099995 40.799008797000056)  \n",
       "1  POINT (-73.89529641399997 40.816391847000034)  \n",
       "2   POINT (-73.77604736799998 40.67970040800003)  \n",
       "3                                            NaN  \n",
       "4  POINT (-73.94110928599997 40.800694331000045)  "
      ]
     },
     "execution_count": 5,
     "metadata": {},
     "output_type": "execute_result"
    }
   ],
   "source": [
    "df.head()"
   ]
  },
  {
   "cell_type": "code",
   "execution_count": 6,
   "id": "905cb2d6",
   "metadata": {},
   "outputs": [
    {
     "data": {
      "text/plain": [
       "Index(['ARREST_KEY', 'ARREST_DATE', 'PD_CD', 'PD_DESC', 'KY_CD', 'OFNS_DESC',\n",
       "       'LAW_CODE', 'LAW_CAT_CD', 'ARREST_BORO', 'ARREST_PRECINCT',\n",
       "       'JURISDICTION_CODE', 'AGE_GROUP', 'PERP_SEX', 'PERP_RACE', 'X_COORD_CD',\n",
       "       'Y_COORD_CD', 'Latitude', 'Longitude', 'Lon_Lat'],\n",
       "      dtype='object')"
      ]
     },
     "execution_count": 6,
     "metadata": {},
     "output_type": "execute_result"
    }
   ],
   "source": [
    "df.columns"
   ]
  },
  {
   "cell_type": "code",
   "execution_count": 7,
   "id": "760077f1",
   "metadata": {},
   "outputs": [
    {
     "name": "stdout",
     "output_type": "stream",
     "text": [
      "         ARREST_KEY  ARREST_DATE  PD_CD  PD_DESC  KY_CD  OFNS_DESC  LAW_CODE  \\\n",
      "0             False        False  False     True   True       True     False   \n",
      "1             False        False  False    False  False      False     False   \n",
      "2             False        False  False    False  False      False     False   \n",
      "3             False        False  False    False  False      False     False   \n",
      "4             False        False  False    False  False      False     False   \n",
      "...             ...          ...    ...      ...    ...        ...       ...   \n",
      "5498645       False        False  False    False  False      False     False   \n",
      "5498646       False        False  False    False  False      False     False   \n",
      "5498647       False        False  False    False  False      False     False   \n",
      "5498648       False        False  False    False  False      False     False   \n",
      "5498649       False        False  False    False  False      False     False   \n",
      "\n",
      "         LAW_CAT_CD  ARREST_BORO  ARREST_PRECINCT  JURISDICTION_CODE  \\\n",
      "0             False        False            False              False   \n",
      "1             False        False            False              False   \n",
      "2             False        False            False              False   \n",
      "3             False        False            False              False   \n",
      "4             False        False            False              False   \n",
      "...             ...          ...              ...                ...   \n",
      "5498645       False        False            False              False   \n",
      "5498646       False        False            False              False   \n",
      "5498647       False        False            False              False   \n",
      "5498648       False        False            False              False   \n",
      "5498649       False        False            False              False   \n",
      "\n",
      "         AGE_GROUP  PERP_SEX  PERP_RACE  X_COORD_CD  Y_COORD_CD  Latitude  \\\n",
      "0            False     False      False       False       False     False   \n",
      "1            False     False      False       False       False     False   \n",
      "2            False     False      False       False       False     False   \n",
      "3            False     False      False        True        True      True   \n",
      "4            False     False      False       False       False     False   \n",
      "...            ...       ...        ...         ...         ...       ...   \n",
      "5498645      False     False      False       False       False     False   \n",
      "5498646      False     False      False       False       False     False   \n",
      "5498647      False     False      False       False       False     False   \n",
      "5498648      False     False      False       False       False     False   \n",
      "5498649      False     False      False       False       False     False   \n",
      "\n",
      "         Longitude  Lon_Lat  \n",
      "0            False    False  \n",
      "1            False    False  \n",
      "2            False    False  \n",
      "3             True     True  \n",
      "4            False    False  \n",
      "...            ...      ...  \n",
      "5498645      False    False  \n",
      "5498646      False    False  \n",
      "5498647      False    False  \n",
      "5498648      False    False  \n",
      "5498649      False    False  \n",
      "\n",
      "[5498650 rows x 19 columns]\n"
     ]
    }
   ],
   "source": [
    "nan_df = df.isna()\n",
    "print(nan_df)"
   ]
  },
  {
   "cell_type": "code",
   "execution_count": 8,
   "id": "5300ba81",
   "metadata": {},
   "outputs": [
    {
     "data": {
      "text/plain": [
       "(5498650, 19)"
      ]
     },
     "execution_count": 8,
     "metadata": {},
     "output_type": "execute_result"
    }
   ],
   "source": [
    "df.shape"
   ]
  },
  {
   "cell_type": "code",
   "execution_count": 9,
   "id": "5352505a",
   "metadata": {},
   "outputs": [],
   "source": [
    "import matplotlib.pyplot as plt"
   ]
  },
  {
   "cell_type": "code",
   "execution_count": 10,
   "id": "6de01997",
   "metadata": {},
   "outputs": [],
   "source": [
    "nypd_data = pd.read_csv('NYPD_Arrests_Data__Historic__20231221.csv')"
   ]
  },
  {
   "cell_type": "code",
   "execution_count": 11,
   "id": "23dfe7ca",
   "metadata": {},
   "outputs": [],
   "source": [
    "borough_arrest_counts = nypd_data['ARREST_BORO'].value_counts()"
   ]
  },
  {
   "cell_type": "code",
   "execution_count": 12,
   "id": "673bd0e8",
   "metadata": {
    "scrolled": false
   },
   "outputs": [
    {
     "data": {
      "image/png": "[encoded data removed]",
      "text/plain": [
       "<Figure size 1000x600 with 1 Axes>"
      ]
     },
     "metadata": {},
     "output_type": "display_data"
    }
   ],
   "source": [
    "# Plotting the number of arrests per borough\n",
    "plt.figure(figsize=(10, 6))\n",
    "borough_arrest_counts.plot(kind='bar', color='skyblue')\n",
    "plt.title('Number of Arrests per Borough (NYPD Data)')\n",
    "plt.xlabel('Borough')\n",
    "plt.ylabel('Number of Arrests')\n",
    "plt.xticks(rotation=45, ha='right')  # Rotate x-axis labels for better readability\n",
    "plt.show()#"
   ]
  },
  {
   "cell_type": "code",
   "execution_count": 13,
   "id": "6ecf87ca",
   "metadata": {},
   "outputs": [],
   "source": [
    "#B(Bronx), S(Staten Island), K(Brooklyn), M(Manhattan), Q(Queens)"
   ]
  },
  {
   "cell_type": "markdown",
   "id": "2e7e21da",
   "metadata": {},
   "source": [
    "I wanted to figure out what the most common arrest was for each borough "
   ]
  },
  {
   "cell_type": "code",
   "execution_count": 14,
   "id": "cf21c5d0",
   "metadata": {},
   "outputs": [],
   "source": [
    "# Subset relevant columns\n",
    "columns_of_interest = ['ARREST_BORO', 'OFNS_DESC']\n",
    "subset_df = df[columns_of_interest]"
   ]
  },
  {
   "cell_type": "code",
   "execution_count": 15,
   "id": "37eabec9",
   "metadata": {},
   "outputs": [],
   "source": [
    "# Find the most common crime type in each borough\n",
    "most_common_crime_in_borough = subset_df.groupby('ARREST_BORO')['OFNS_DESC'].value_counts().groupby('ARREST_BORO').idxmax().reset_index(name='Most Common Crime')\n"
   ]
  },
  {
   "cell_type": "code",
   "execution_count": 16,
   "id": "0ef53fcf",
   "metadata": {},
   "outputs": [
    {
     "name": "stdout",
     "output_type": "stream",
     "text": [
      "Most Common Crime Types in Each Borough:\n",
      "  ARREST_BORO     Most Common Crime\n",
      "0           B  (B, DANGEROUS DRUGS)\n",
      "1           K  (K, DANGEROUS DRUGS)\n",
      "2           M  (M, DANGEROUS DRUGS)\n",
      "3           Q  (Q, DANGEROUS DRUGS)\n",
      "4           S  (S, DANGEROUS DRUGS)\n"
     ]
    }
   ],
   "source": [
    "# Display the DataFrame\n",
    "print(\"Most Common Crime Types in Each Borough:\")\n",
    "print(most_common_crime_in_borough)"
   ]
  },
  {
   "cell_type": "code",
   "execution_count": 17,
   "id": "b6cbffe6",
   "metadata": {},
   "outputs": [],
   "source": [
    "# i found the charts made out of this function to be vwey confusing so i just transferred everything to a seperate dataframe to make it more readable "
   ]
  },
  {
   "cell_type": "code",
   "execution_count": 18,
   "id": "8db05ad3",
   "metadata": {},
   "outputs": [],
   "source": [
    "#B(Bronx), S(Staten Island), K(Brooklyn), M(Manhattan), Q(Queens)"
   ]
  },
  {
   "cell_type": "code",
   "execution_count": 19,
   "id": "b79caadd",
   "metadata": {},
   "outputs": [],
   "source": [
    "#finally i wanted to figure out if there was a bias in the age groups if we filter the arrest by crime\n",
    "grouped_by_age = df.groupby('AGE_GROUP')['OFNS_DESC'].value_counts().reset_index(name='Crime Count')\n"
   ]
  },
  {
   "cell_type": "code",
   "execution_count": 20,
   "id": "902111f9",
   "metadata": {},
   "outputs": [
    {
     "name": "stdout",
     "output_type": "stream",
     "text": [
      "Crime Counts Grouped by Age Group:\n"
     ]
    },
    {
     "data": {
      "text/html": [
       "<div>\n",
       "<style scoped>\n",
       "    .dataframe tbody tr th:only-of-type {\n",
       "        vertical-align: middle;\n",
       "    }\n",
       "\n",
       "    .dataframe tbody tr th {\n",
       "        vertical-align: top;\n",
       "    }\n",
       "\n",
       "    .dataframe thead th {\n",
       "        text-align: right;\n",
       "    }\n",
       "</style>\n",
       "<table border=\"1\" class=\"dataframe\">\n",
       "  <thead>\n",
       "    <tr style=\"text-align: right;\">\n",
       "      <th></th>\n",
       "      <th>AGE_GROUP</th>\n",
       "      <th>OFNS_DESC</th>\n",
       "      <th>Crime Count</th>\n",
       "    </tr>\n",
       "  </thead>\n",
       "  <tbody>\n",
       "    <tr>\n",
       "      <th>0</th>\n",
       "      <td>1018</td>\n",
       "      <td>OTHER OFFENSES RELATED TO THEFT</td>\n",
       "      <td>1</td>\n",
       "    </tr>\n",
       "    <tr>\n",
       "      <th>1</th>\n",
       "      <td>1024</td>\n",
       "      <td>MISCELLANEOUS PENAL LAW</td>\n",
       "      <td>1</td>\n",
       "    </tr>\n",
       "    <tr>\n",
       "      <th>2</th>\n",
       "      <td>1042</td>\n",
       "      <td>DANGEROUS DRUGS</td>\n",
       "      <td>1</td>\n",
       "    </tr>\n",
       "    <tr>\n",
       "      <th>3</th>\n",
       "      <td>1048</td>\n",
       "      <td>OFF. AGNST PUB ORD SENSBLTY &amp; RGHTS TO PRIV</td>\n",
       "      <td>1</td>\n",
       "    </tr>\n",
       "    <tr>\n",
       "      <th>4</th>\n",
       "      <td>18-24</td>\n",
       "      <td>DANGEROUS DRUGS</td>\n",
       "      <td>308715</td>\n",
       "    </tr>\n",
       "    <tr>\n",
       "      <th>...</th>\n",
       "      <td>...</td>\n",
       "      <td>...</td>\n",
       "      <td>...</td>\n",
       "    </tr>\n",
       "    <tr>\n",
       "      <th>556</th>\n",
       "      <td>&lt;18</td>\n",
       "      <td>FORTUNE TELLING</td>\n",
       "      <td>1</td>\n",
       "    </tr>\n",
       "    <tr>\n",
       "      <th>557</th>\n",
       "      <td>&lt;18</td>\n",
       "      <td>NEW YORK CITY HEALTH CODE</td>\n",
       "      <td>1</td>\n",
       "    </tr>\n",
       "    <tr>\n",
       "      <th>558</th>\n",
       "      <td>UNKNOWN</td>\n",
       "      <td>ROBBERY</td>\n",
       "      <td>3</td>\n",
       "    </tr>\n",
       "    <tr>\n",
       "      <th>559</th>\n",
       "      <td>UNKNOWN</td>\n",
       "      <td>ASSAULT 3 &amp; RELATED OFFENSES</td>\n",
       "      <td>1</td>\n",
       "    </tr>\n",
       "    <tr>\n",
       "      <th>560</th>\n",
       "      <td>UNKNOWN</td>\n",
       "      <td>DANGEROUS DRUGS</td>\n",
       "      <td>1</td>\n",
       "    </tr>\n",
       "  </tbody>\n",
       "</table>\n",
       "<p>561 rows × 3 columns</p>\n",
       "</div>"
      ],
      "text/plain": [
       "    AGE_GROUP                                    OFNS_DESC  Crime Count\n",
       "0        1018              OTHER OFFENSES RELATED TO THEFT            1\n",
       "1        1024                      MISCELLANEOUS PENAL LAW            1\n",
       "2        1042                              DANGEROUS DRUGS            1\n",
       "3        1048  OFF. AGNST PUB ORD SENSBLTY & RGHTS TO PRIV            1\n",
       "4       18-24                              DANGEROUS DRUGS       308715\n",
       "..        ...                                          ...          ...\n",
       "556       <18                              FORTUNE TELLING            1\n",
       "557       <18                    NEW YORK CITY HEALTH CODE            1\n",
       "558   UNKNOWN                                      ROBBERY            3\n",
       "559   UNKNOWN                 ASSAULT 3 & RELATED OFFENSES            1\n",
       "560   UNKNOWN                              DANGEROUS DRUGS            1\n",
       "\n",
       "[561 rows x 3 columns]"
      ]
     },
     "execution_count": 20,
     "metadata": {},
     "output_type": "execute_result"
    }
   ],
   "source": [
    "# Display the DataFrame\n",
    "print(\"Crime Counts Grouped by Age Group:\")\n",
    "(grouped_by_age)"
   ]
  },
  {
   "cell_type": "code",
   "execution_count": 21,
   "id": "0ae7f2af",
   "metadata": {},
   "outputs": [],
   "source": [
    "# one last thing i wanted to look at was how arrest rates differed by race and ethnicity? "
   ]
  },
  {
   "cell_type": "code",
   "execution_count": 22,
   "id": "f12e34ec",
   "metadata": {},
   "outputs": [],
   "source": [
    "# Assuming 'PERP_RACE' is the column indicating the race of individuals\n",
    "race_arrest_counts = df.groupby('PERP_RACE')['ARREST_KEY'].count().reset_index(name='Total Arrests')\n"
   ]
  },
  {
   "cell_type": "code",
   "execution_count": 23,
   "id": "ea394e1c",
   "metadata": {},
   "outputs": [
    {
     "data": {
      "image/png": "[encoded data removed]",
      "text/plain": [
       "<Figure size 1200x800 with 1 Axes>"
      ]
     },
     "metadata": {},
     "output_type": "display_data"
    }
   ],
   "source": [
    " #Visualize total arrest numbers between different races\n",
    "plt.figure(figsize=(12, 8))\n",
    "plt.bar(race_arrest_counts['PERP_RACE'], race_arrest_counts['Total Arrests'], color='skyblue')\n",
    "plt.title('Arrest rates in New York filtered by Race')\n",
    "plt.xlabel('Perpetrator Race')\n",
    "plt.ylabel('Rate of Arrests')\n",
    "plt.xticks(rotation=45, ha='right')  # Rotate x-axis labels for better readability\n",
    "plt.show()"
   ]
  },
  {
   "cell_type": "markdown",
   "id": "a94dc424",
   "metadata": {},
   "source": [
    "# Analysis #"
   ]
  },
  {
   "cell_type": "markdown",
   "id": "995e77c6",
   "metadata": {},
   "source": [
    "The firdt thing i wanted to find out with this dataset was how different the number of arrests would be between the 5 boroughs. What i found out was as follows, generally speaking the number of arrests in each borough stays pretty steady between manhatten and the bronx with values between 1.5 and and 1.2 respectively. In comparison, Staten Island only has an arrest rate of 0.8 nearly double the arrest rate for manhatten this can be down to a few factors one of the most probable being that Staten Island having a smaller general population compared to the more metropolitan boroughs and thus crime might be less common in  that area compared to some place like manhatten. I also  wanted to figure out what was the most common cause of arrest in those the 5 boroughs  and i found out that the most common accross all of them were various drug offenses. This is largely indicative of how staunchly new york city penalizes Drug possession and distribution  and could be a very good reason as to why over the last five or so years New York city has slowly began to reform their stance on non-violent drug arrests by decrimanalizing  recreational uses of marijuana and re litigating many of the long prison sentences that vame as a result of those arrests \n",
    "\n",
    "Another aspect  of this dataset i wanted to look into further was how different age groups were being treated withinn the nypd's the thing i found most interesting was that a lot of people aged 18-24 were being caught for these drug offenses with 30875 arrests being  made of 18 to 24 year olds for these \"dangerous drug\" offenses according to cell 20. without specifiynig what these drugs were there is no way of getting a good idea of what thes people were arrested with. but to have such a large portion of your overall data be populated by people so young and have them all be arrested for the same crime  is definetly portraying a certain bias within the data set  \n",
    "\n",
    "Finally for one last visualization i decided to uses Race and ethnicity to illustrate the differences between how different groups are treated by the police, as shown by the graph above  the majority of the arrests that are within this dataset are of Black induviduals. This provides a good snapshot of how disporiprtionatly  African Americans are placed within the criminal justice system as shown by the next most amount of arrest within a racial group of white-hispanic people  having nearly half as many arrests as the african american group within the chart "
   ]
  },
  {
   "cell_type": "code",
   "execution_count": null,
   "id": "e84533b7",
   "metadata": {},
   "outputs": [],
   "source": []
  }
 ],
 "metadata": {
  "kernelspec": {
   "display_name": "Python 3 (ipykernel)",
   "language": "python",
   "name": "python3"
  },
  "language_info": {
   "codemirror_mode": {
    "name": "ipython",
    "version": 3
   },
   "file_extension": ".py",
   "mimetype": "text/x-python",
   "name": "python",
   "nbconvert_exporter": "python",
   "pygments_lexer": "ipython3",
   "version": "3.11.4"
  }
 },
 "nbformat": 4,
 "nbformat_minor": 5
}
